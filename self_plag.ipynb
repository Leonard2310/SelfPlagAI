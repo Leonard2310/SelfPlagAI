{
 "cells": [
  {
   "cell_type": "markdown",
   "id": "59300eb0",
   "metadata": {},
   "source": [
    "## Import Librerie"
   ]
  },
  {
   "cell_type": "code",
   "execution_count": 26,
   "id": "56a0052c",
   "metadata": {},
   "outputs": [],
   "source": [
    "import pymongo\n",
    "import numpy as np\n",
    "import pandas as pd\n",
    "import dotenv\n",
    "import os\n",
    "\n",
    "from urllib.parse import quote_plus"
   ]
  },
  {
   "cell_type": "markdown",
   "id": "7a1b94ba",
   "metadata": {},
   "source": [
    "## SQuAD v2.0 in MongoDB"
   ]
  },
  {
   "cell_type": "markdown",
   "id": "193a85ca",
   "metadata": {},
   "source": [
    "### Access Functions to MongoDB Atlas Cluster"
   ]
  },
  {
   "cell_type": "code",
   "execution_count": 27,
   "id": "851eee73",
   "metadata": {},
   "outputs": [],
   "source": [
    "def get_mongo_client(username: str, password: str, cluster: str = \"x4cluster.n6xsnhl.mongodb.net\") -> pymongo.MongoClient:\n",
    "    \"\"\"\n",
    "    Restituisce un oggetto MongoClient autenticato al cluster specificato.\n",
    "\n",
    "    Args:\n",
    "        username (str): Username del database MongoDB.\n",
    "        password (str): Password del database MongoDB.\n",
    "        cluster (str): Nome del cluster MongoDB (default: \"x4cluster.n6xsnhl.mongodb.net\").\n",
    "\n",
    "    Returns:\n",
    "        pymongo.MongoClient: Istanza autenticata del client MongoDB.\n",
    "    \"\"\"\n",
    "    encoded_username = quote_plus(username)\n",
    "    encoded_password = quote_plus(password)\n",
    "    uri = f\"mongodb+srv://{encoded_username}:{encoded_password}@{cluster}/\"\n",
    "    return pymongo.MongoClient(uri)\n",
    "\n",
    "def insert_dataframe_to_mongo(client, dataframe, collection_name: str, db_name : str = 'squadv2'):\n",
    "    \"\"\"\n",
    "    Converte eventuali ndarray nel DataFrame e lo inserisce nella collezione MongoDB specificata.\n",
    "\n",
    "    Args:\n",
    "        client: Istanza di pymongo.MongoClient.\n",
    "        dataframe (pd.DataFrame): Il DataFrame da inserire.\n",
    "        collection_name (str): Nome della collezione.\n",
    "        db_name (str): Nome del database.\n",
    "    \"\"\"\n",
    "\n",
    "    def convert_ndarray_to_list(obj):\n",
    "        if isinstance(obj, dict):\n",
    "            return {k: convert_ndarray_to_list(v) for k, v in obj.items()}\n",
    "        elif isinstance(obj, list):\n",
    "            return [convert_ndarray_to_list(i) for i in obj]\n",
    "        elif hasattr(obj, \"tolist\"):  # per numpy.ndarray\n",
    "            return obj.tolist()\n",
    "        else:\n",
    "            return obj\n",
    "\n",
    "    cleaned_df = dataframe.applymap(convert_ndarray_to_list)\n",
    "    records = cleaned_df.to_dict(\"records\")\n",
    "\n",
    "    client[db_name][collection_name].insert_many(records)\n",
    "    print(f\"{len(records)} documenti inseriti in '{db_name}.{collection_name}'\")\n",
    "\n",
    "def drop_collection(client, collection_name: str, db_name : str = 'squadv2'):\n",
    "    \"\"\"\n",
    "    Elimina una collezione da un database MongoDB.\n",
    "\n",
    "    Args:\n",
    "        client: Istanza di pymongo.MongoClient.\n",
    "        collection_name (str): Nome della collezione da eliminare.\n",
    "        db_name (str): Nome del database.\n",
    "    \"\"\"\n",
    "    if collection_name in client[db_name].list_collection_names():\n",
    "        client[db_name].drop_collection(collection_name)\n",
    "        print(f\"Collezione '{db_name}.{collection_name}' eliminata.\")\n",
    "    else:\n",
    "        print(f\"La collezione '{db_name}.{collection_name}' non esiste.\")\n",
    "\n",
    "def read_collection(client, collection_name: str, db_name: str = 'squadv2', as_dataframe: bool = False, projection: dict = None):\n",
    "    \"\"\"\n",
    "    Legge tutti i documenti da una collezione MongoDB.\n",
    "\n",
    "    Args:\n",
    "        client: Istanza di pymongo.MongoClient.\n",
    "        db_name (str): Nome del database.\n",
    "        collection_name (str): Nome della collezione da cui leggere.\n",
    "        as_dataframe (bool): Se True, restituisce un DataFrame; altrimenti, una lista di dizionari.\n",
    "        projection (dict): Specifica quali campi includere/escludere, es. {\"_id\": 0} per escludere l'_id.\n",
    "\n",
    "    Returns:\n",
    "        list[dict] o pandas.DataFrame: I documenti letti dalla collezione.\n",
    "    \"\"\"\n",
    "    import pandas as pd\n",
    "\n",
    "    collection = client[db_name][collection_name]\n",
    "    cursor = collection.find({}, projection or {})\n",
    "\n",
    "    data = list(cursor)\n",
    "    print(f\"{len(data)} documenti letti da '{db_name}.{collection_name}'\")\n",
    "\n",
    "    if as_dataframe:\n",
    "        return pd.DataFrame(data)\n",
    "    return data\n",
    "\n",
    "def update_collection_from_dataframe(client, db_name: str, collection_name: str, dataframe, match_field: str):\n",
    "    \"\"\"\n",
    "    Aggiorna i documenti in una collezione MongoDB usando i dati di un DataFrame.\n",
    "\n",
    "    Args:\n",
    "        client: Istanza di pymongo.MongoClient.\n",
    "        db_name (str): Nome del database.\n",
    "        collection_name (str): Nome della collezione.\n",
    "        dataframe (pd.DataFrame): DataFrame contenente i dati aggiornati.\n",
    "        match_field (str): Campo univoco da usare per identificare i documenti da aggiornare.\n",
    "    \"\"\"\n",
    "    def convert_ndarray_to_list(obj):\n",
    "        if isinstance(obj, dict):\n",
    "            return {k: convert_ndarray_to_list(v) for k, v in obj.items()}\n",
    "        elif isinstance(obj, list):\n",
    "            return [convert_ndarray_to_list(i) for i in obj]\n",
    "        elif hasattr(obj, \"tolist\"):  # es. numpy.ndarray\n",
    "            return obj.tolist()\n",
    "        else:\n",
    "            return obj\n",
    "\n",
    "    cleaned_df = dataframe.applymap(convert_ndarray_to_list)\n",
    "    collection = client[db_name][collection_name]\n",
    "\n",
    "    updated_count = 0\n",
    "    for record in cleaned_df.to_dict(\"records\"):\n",
    "        match_value = record.get(match_field)\n",
    "        if match_value is None:\n",
    "            continue  # Salta righe senza valore per il campo di matching\n",
    "\n",
    "        result = collection.update_one(\n",
    "            {match_field: match_value},  # filtro\n",
    "            {\"$set\": record},            # update\n",
    "            upsert=False                 # non inserisce se non esiste\n",
    "        )\n",
    "        if result.modified_count > 0:\n",
    "            updated_count += 1\n",
    "\n",
    "    print(f\"{updated_count} documenti aggiornati in '{db_name}.{collection_name}'\")\n"
   ]
  },
  {
   "cell_type": "markdown",
   "id": "7a01946c",
   "metadata": {},
   "source": [
    "### MongoDB Cluster Usage"
   ]
  },
  {
   "cell_type": "code",
   "execution_count": null,
   "id": "f812b98e",
   "metadata": {},
   "outputs": [],
   "source": [
    "# dotenv.load_dotenv(\"key.env\", override=True)\n",
    "\n",
    "# username = os.getenv(\"USERNAME\")\n",
    "# password = os.getenv(\"PASSWORD\")\n",
    "\n",
    "# client = get_mongo_client(username, password)\n",
    "\n",
    "# df = read_collection(client, 'squadv2_original_train', as_dataframe=True)\n",
    "\n",
    "# df\n",
    "\n",
    "# client.close()"
   ]
  },
  {
   "cell_type": "markdown",
   "id": "7ee31521",
   "metadata": {},
   "source": [
    "## Training Mistral 7B v0.2"
   ]
  },
  {
   "cell_type": "code",
   "execution_count": null,
   "id": "56d30938",
   "metadata": {},
   "outputs": [],
   "source": []
  },
  {
   "cell_type": "markdown",
   "id": "dfb942d9",
   "metadata": {},
   "source": [
    "## BertScore Evaluation"
   ]
  },
  {
   "cell_type": "code",
   "execution_count": null,
   "id": "aeb60774",
   "metadata": {},
   "outputs": [],
   "source": []
  }
 ],
 "metadata": {
  "kernelspec": {
   "display_name": "bde",
   "language": "python",
   "name": "python3"
  },
  "language_info": {
   "codemirror_mode": {
    "name": "ipython",
    "version": 3
   },
   "file_extension": ".py",
   "mimetype": "text/x-python",
   "name": "python",
   "nbconvert_exporter": "python",
   "pygments_lexer": "ipython3",
   "version": "3.10.18"
  }
 },
 "nbformat": 4,
 "nbformat_minor": 5
}
