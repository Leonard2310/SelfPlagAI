{
 "cells": [
  {
   "cell_type": "markdown",
   "id": "7a1b94ba",
   "metadata": {},
   "source": [
    "## SQuAD v2.0 in Mongo DB"
   ]
  },
  {
   "cell_type": "code",
   "execution_count": null,
   "id": "3d658d34",
   "metadata": {
    "vscode": {
     "languageId": "plaintext"
    }
   },
   "outputs": [],
   "source": []
  },
  {
   "cell_type": "markdown",
   "id": "7ee31521",
   "metadata": {},
   "source": [
    "## Training Mistral 7B v0.2"
   ]
  },
  {
   "cell_type": "code",
   "execution_count": null,
   "id": "56d30938",
   "metadata": {
    "vscode": {
     "languageId": "plaintext"
    }
   },
   "outputs": [],
   "source": []
  },
  {
   "cell_type": "markdown",
   "id": "dfb942d9",
   "metadata": {},
   "source": [
    "## BertScore Evaluation"
   ]
  },
  {
   "cell_type": "code",
   "execution_count": null,
   "id": "aeb60774",
   "metadata": {
    "vscode": {
     "languageId": "plaintext"
    }
   },
   "outputs": [],
   "source": []
  }
 ],
 "metadata": {
  "language_info": {
   "name": "python"
  }
 },
 "nbformat": 4,
 "nbformat_minor": 5
}
